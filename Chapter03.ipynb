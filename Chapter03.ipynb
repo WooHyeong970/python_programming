{
  "nbformat": 4,
  "nbformat_minor": 0,
  "metadata": {
    "colab": {
      "name": "Chapter03.ipynb",
      "provenance": [],
      "authorship_tag": "ABX9TyOO98YuJct1XGQ4foUq7oxF",
      "include_colab_link": true
    },
    "kernelspec": {
      "name": "python3",
      "display_name": "Python 3"
    }
  },
  "cells": [
    {
      "cell_type": "markdown",
      "metadata": {
        "id": "view-in-github",
        "colab_type": "text"
      },
      "source": [
        "<a href=\"https://colab.research.google.com/github/dngud9701/python_programming/blob/main/Chapter03.ipynb\" target=\"_parent\"><img src=\"https://colab.research.google.com/assets/colab-badge.svg\" alt=\"Open In Colab\"/></a>"
      ]
    },
    {
      "cell_type": "code",
      "metadata": {
        "colab": {
          "base_uri": "https://localhost:8080/"
        },
        "id": "PpA2NaHZVs2s",
        "outputId": "7c8f5eef-435c-4a79-d487-0bfbf2a9e5d3"
      },
      "source": [
        "a = [0,1,2,3,4]\r\n",
        "print(a[:3], a[:-3])"
      ],
      "execution_count": 1,
      "outputs": [
        {
          "output_type": "stream",
          "text": [
            "[0, 1, 2] [0, 1]\n"
          ],
          "name": "stdout"
        }
      ]
    },
    {
      "cell_type": "code",
      "metadata": {
        "colab": {
          "base_uri": "https://localhost:8080/"
        },
        "id": "ZZOBDttQWB7s",
        "outputId": "0e23d995-e0e6-40c1-e5a0-e450f4eaaa64"
      },
      "source": [
        "a = [0,1,2,3,4]\r\n",
        "print(a[::-1])"
      ],
      "execution_count": 2,
      "outputs": [
        {
          "output_type": "stream",
          "text": [
            "[4, 3, 2, 1, 0]\n"
          ],
          "name": "stdout"
        }
      ]
    },
    {
      "cell_type": "code",
      "metadata": {
        "colab": {
          "base_uri": "https://localhost:8080/"
        },
        "id": "FOYbXFRMWW-o",
        "outputId": "01750842-ed8b-4c46-fe86-9cace187b6b3"
      },
      "source": [
        "first = [\"egg\", \"salad\", \"bread\", \"soup\", \"canafe\"]\r\n",
        "second = [\"fish\", \"lamb\", \"pork\", \"beef\", \"chicken\"]\r\n",
        "third = [\"apple\", \"banana\", \"orange\", \"grape\", \"mango\"]\r\n",
        "\r\n",
        "order = [first, second, third]\r\n",
        "john = [order[0][:-2], second[1::3], third[0]]\r\n",
        "del john[2]\r\n",
        "john.extend([order[2][0:1]])\r\n",
        "print(john)"
      ],
      "execution_count": 3,
      "outputs": [
        {
          "output_type": "stream",
          "text": [
            "[['egg', 'salad', 'bread'], ['lamb', 'chicken'], ['apple']]\n"
          ],
          "name": "stdout"
        }
      ]
    },
    {
      "cell_type": "code",
      "metadata": {
        "colab": {
          "base_uri": "https://localhost:8080/"
        },
        "id": "fVO5Me70XOhF",
        "outputId": "0448a01f-5ed6-41e5-d835-62f0c31bb13d"
      },
      "source": [
        "list_a = [3,2,1,4]\r\n",
        "list_b = sorted(list_a)\r\n",
        "print(list_a, list_b)"
      ],
      "execution_count": 5,
      "outputs": [
        {
          "output_type": "stream",
          "text": [
            "[3, 2, 1, 4] [1, 2, 3, 4]\n"
          ],
          "name": "stdout"
        }
      ]
    },
    {
      "cell_type": "code",
      "metadata": {
        "colab": {
          "base_uri": "https://localhost:8080/"
        },
        "id": "hy1a-YuAXgcS",
        "outputId": "fc156050-94c6-4ee2-b5dd-7a65410cdd0a"
      },
      "source": [
        "a = [5,7,3]\r\n",
        "b = [3,9,1]\r\n",
        "c = a + b\r\n",
        "print(c)\r\n",
        "c = sorted(c)\r\n",
        "print(c)"
      ],
      "execution_count": 7,
      "outputs": [
        {
          "output_type": "stream",
          "text": [
            "[5, 7, 3, 3, 9, 1]\n",
            "[1, 3, 3, 5, 7, 9]\n"
          ],
          "name": "stdout"
        }
      ]
    },
    {
      "cell_type": "code",
      "metadata": {
        "colab": {
          "base_uri": "https://localhost:8080/"
        },
        "id": "8PpYij3eX0Wa",
        "outputId": "d8bdc67b-92e0-47cc-a791-f3087a0557bc"
      },
      "source": [
        "fruits = ['apple', 'banana', 'cherry', 'grape', 'orange', 'strawberry', 'melon']\r\n",
        "print(fruits[-3:])\r\n",
        "print(fruits[1::3])"
      ],
      "execution_count": 8,
      "outputs": [
        {
          "output_type": "stream",
          "text": [
            "['orange', 'strawberry', 'melon']\n",
            "['banana', 'orange']\n"
          ],
          "name": "stdout"
        }
      ]
    },
    {
      "cell_type": "code",
      "metadata": {
        "colab": {
          "base_uri": "https://localhost:8080/"
        },
        "id": "rupmcxSAYMxi",
        "outputId": "0ac96b85-44f9-4174-c886-05a82578c2cd"
      },
      "source": [
        "num = [1,2,3,4]\r\n",
        "print(num * 2)"
      ],
      "execution_count": 9,
      "outputs": [
        {
          "output_type": "stream",
          "text": [
            "[1, 2, 3, 4, 1, 2, 3, 4]\n"
          ],
          "name": "stdout"
        }
      ]
    },
    {
      "cell_type": "code",
      "metadata": {
        "colab": {
          "base_uri": "https://localhost:8080/"
        },
        "id": "4KnrkqRrYQuw",
        "outputId": "b099bc13-c51d-4d0b-8016-1fa13d1e8153"
      },
      "source": [
        "a = [1,2,3,5]\r\n",
        "b = ['a', 'b', 'c', 'd', 'e']\r\n",
        "\r\n",
        "a.append('g')\r\n",
        "b.append(6)\r\n",
        "print('g' in b, len(b))"
      ],
      "execution_count": 10,
      "outputs": [
        {
          "output_type": "stream",
          "text": [
            "False 6\n"
          ],
          "name": "stdout"
        }
      ]
    },
    {
      "cell_type": "code",
      "metadata": {
        "colab": {
          "base_uri": "https://localhost:8080/"
        },
        "id": "KU_QTXhwYpDp",
        "outputId": "893273cb-d0ef-4d2f-d9ca-5d2cfa4d51d1"
      },
      "source": [
        "list_a = ['Hankko', 'University', 'is', 'an', 'academic', 'institute', 'located', 'in', 'South Korea']\r\n",
        "list_b = []\r\n",
        "for i in range(len(list_a)):\r\n",
        "  print(i)\r\n",
        "  if i % 2 != 1:\r\n",
        "    list_b.append(list_a[i])\r\n",
        "print(list_b)"
      ],
      "execution_count": 12,
      "outputs": [
        {
          "output_type": "stream",
          "text": [
            "0\n",
            "1\n",
            "2\n",
            "3\n",
            "4\n",
            "5\n",
            "6\n",
            "7\n",
            "8\n",
            "['Hankko', 'is', 'academic', 'located', 'South Korea']\n"
          ],
          "name": "stdout"
        }
      ]
    },
    {
      "cell_type": "code",
      "metadata": {
        "colab": {
          "base_uri": "https://localhost:8080/"
        },
        "id": "EgEacGcKZUwz",
        "outputId": "14200e97-244f-4912-b494-c47b8cd071b2"
      },
      "source": [
        "admission_year = input(\"입학 연도를 입력하세요: \")\r\n",
        "print(type(admission_year))"
      ],
      "execution_count": 13,
      "outputs": [
        {
          "output_type": "stream",
          "text": [
            "입학 연도를 입력하세요: 2016\n",
            "<class 'str'>\n"
          ],
          "name": "stdout"
        }
      ]
    },
    {
      "cell_type": "code",
      "metadata": {
        "colab": {
          "base_uri": "https://localhost:8080/"
        },
        "id": "c7E2PlgjZ4MD",
        "outputId": "682f0201-c349-4f81-ed68-6d8a091efda7"
      },
      "source": [
        "country = [\"Korea\", \"Japan\", \"China\"]\r\n",
        "capital = [\"Seoul\", \"Tokyo\", \"Beijing\"]\r\n",
        "index = [1,2,3]\r\n",
        "country.append(capital)\r\n",
        "country[3][1] = index[1:]\r\n",
        "print(country)"
      ],
      "execution_count": 14,
      "outputs": [
        {
          "output_type": "stream",
          "text": [
            "['Korea', 'Japan', 'China', ['Seoul', [2, 3], 'Beijing']]\n"
          ],
          "name": "stdout"
        }
      ]
    }
  ]
}