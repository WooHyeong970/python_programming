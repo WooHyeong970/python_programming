{
  "nbformat": 4,
  "nbformat_minor": 0,
  "metadata": {
    "colab": {
      "name": "Chapter04.ipynb",
      "provenance": [],
      "collapsed_sections": [],
      "authorship_tag": "ABX9TyNh+8TeOvXjSFQ2n97Q59D6",
      "include_colab_link": true
    },
    "kernelspec": {
      "name": "python3",
      "display_name": "Python 3"
    }
  },
  "cells": [
    {
      "cell_type": "markdown",
      "metadata": {
        "id": "view-in-github",
        "colab_type": "text"
      },
      "source": [
        "<a href=\"https://colab.research.google.com/github/dngud9701/python_programming/blob/main/Chapter04.ipynb\" target=\"_parent\"><img src=\"https://colab.research.google.com/assets/colab-badge.svg\" alt=\"Open In Colab\"/></a>"
      ]
    },
    {
      "cell_type": "code",
      "metadata": {
        "colab": {
          "base_uri": "https://localhost:8080/"
        },
        "id": "pTdSl19ksEhv",
        "outputId": "19c99e38-2c7d-45f4-ffcf-2ded94b81b1e"
      },
      "source": [
        "fruit = 'apple'\r\n",
        "if fruit == 'Apple':\r\n",
        "  fruit = 'Apple'\r\n",
        "elif fruit == 'fruit':\r\n",
        "  fruit = 'fruit'\r\n",
        "else:\r\n",
        "  fruit = fruit\r\n",
        "print(fruit)"
      ],
      "execution_count": null,
      "outputs": [
        {
          "output_type": "stream",
          "text": [
            "apple\n"
          ],
          "name": "stdout"
        }
      ]
    },
    {
      "cell_type": "code",
      "metadata": {
        "colab": {
          "base_uri": "https://localhost:8080/"
        },
        "id": "HrtUx04osW5S",
        "outputId": "faafb9e4-b586-413a-8303-6971f8fbedd3"
      },
      "source": [
        "num = ['12', '34', '56']\r\n",
        "for i in num:\r\n",
        "  i = int(i)\r\n",
        "print(num)\r\n",
        "num[0] = 12\r\n",
        "print(num)"
      ],
      "execution_count": null,
      "outputs": [
        {
          "output_type": "stream",
          "text": [
            "['12', '34', '56']\n",
            "[12, '34', '56']\n"
          ],
          "name": "stdout"
        }
      ]
    },
    {
      "cell_type": "code",
      "metadata": {
        "colab": {
          "base_uri": "https://localhost:8080/"
        },
        "id": "DanCviUwsjhv",
        "outputId": "cd10d3bb-8d0d-4cf3-c820-404b4cc6c58b"
      },
      "source": [
        "number = [\"1\", 2, 3, float(4), str(5)]\r\n",
        "if number[4] == 5:\r\n",
        "  print(type(number[0]))\r\n",
        "elif number[3] == 4:\r\n",
        "  print(number[2:-1])"
      ],
      "execution_count": null,
      "outputs": [
        {
          "output_type": "stream",
          "text": [
            "[3, 4.0]\n"
          ],
          "name": "stdout"
        }
      ]
    },
    {
      "cell_type": "code",
      "metadata": {
        "colab": {
          "base_uri": "https://localhost:8080/"
        },
        "id": "7I1fE5RnuAjg",
        "outputId": "b1b6ebe5-91d7-4983-d27d-d89497f26d5c"
      },
      "source": [
        "num = 0\r\n",
        "i = 1\r\n",
        "\r\n",
        "while i < 8:\r\n",
        "  if i % 3 == 0:\r\n",
        "    break\r\n",
        "  i += 1\r\n",
        "  num += i\r\n",
        "print(num)"
      ],
      "execution_count": null,
      "outputs": [
        {
          "output_type": "stream",
          "text": [
            "5\n"
          ],
          "name": "stdout"
        }
      ]
    },
    {
      "cell_type": "code",
      "metadata": {
        "colab": {
          "base_uri": "https://localhost:8080/"
        },
        "id": "yXxMQ0qsuPS0",
        "outputId": "f2e87243-edec-4593-9a94-ac15f57f91f5"
      },
      "source": [
        "result = 0\r\n",
        "for i in range(5, -5, -2):\r\n",
        "  if i < -3:\r\n",
        "    result += 1\r\n",
        "  else:\r\n",
        "    result -= 1\r\n",
        "print(result)"
      ],
      "execution_count": null,
      "outputs": [
        {
          "output_type": "stream",
          "text": [
            "-5\n"
          ],
          "name": "stdout"
        }
      ]
    },
    {
      "cell_type": "code",
      "metadata": {
        "colab": {
          "base_uri": "https://localhost:8080/"
        },
        "id": "m3C9pOJTvqTY",
        "outputId": "45b576f1-e3fc-4f19-81cb-3bb131eb180f"
      },
      "source": [
        "first_value = 0\r\n",
        "second_value = 0\r\n",
        "for i in range(1, 10):\r\n",
        "  if i is 5:\r\n",
        "    continue\r\n",
        "    first_value = i\r\n",
        "  if i is 10:\r\n",
        "    break\r\n",
        "    second_value = i\r\n",
        "\r\n",
        "print(first_value + second_value)"
      ],
      "execution_count": null,
      "outputs": [
        {
          "output_type": "stream",
          "text": [
            "0\n"
          ],
          "name": "stdout"
        }
      ]
    },
    {
      "cell_type": "code",
      "metadata": {
        "id": "1RMABq7uv6eQ",
        "colab": {
          "base_uri": "https://localhost:8080/"
        },
        "outputId": "8008e3c7-a51f-46b8-afd8-1f3de53b480c"
      },
      "source": [
        "num = \"\"\r\n",
        "for i in range(10):\r\n",
        "  if i <= 5 and (i%2)==0:\r\n",
        "    continue\r\n",
        "  elif i is 7 or i is 10:\r\n",
        "    continue\r\n",
        "  else:\r\n",
        "    num = str(i) + num\r\n",
        "print(num)"
      ],
      "execution_count": null,
      "outputs": [
        {
          "output_type": "stream",
          "text": [
            "986531\n"
          ],
          "name": "stdout"
        }
      ]
    },
    {
      "cell_type": "code",
      "metadata": {
        "colab": {
          "base_uri": "https://localhost:8080/"
        },
        "id": "ZKfttgYdxY6v",
        "outputId": "778ed6e8-06d1-4bde-857d-83f4ceea2f86"
      },
      "source": [
        "def work_status(task,worker,day):\r\n",
        "  rest_task = task\r\n",
        "  for k in range(day):\r\n",
        "    if rest_task > 0:\r\n",
        "      rest_task = rest_task - worker\r\n",
        "    elif rest_task <= 0:\r\n",
        "      print(\"Task end\")\r\n",
        "  if rest_task > 0:\r\n",
        "    print(\"Hire more workers\")\r\n",
        "\r\n",
        "work_status(100,11,10)\r\n",
        "work_status(100,1,10)\r\n",
        "work_status(100,9,10)\r\n",
        "work_status(100,10,10)"
      ],
      "execution_count": null,
      "outputs": [
        {
          "output_type": "stream",
          "text": [
            "Hire more workers\n",
            "Hire more workers\n"
          ],
          "name": "stdout"
        }
      ]
    },
    {
      "cell_type": "code",
      "metadata": {
        "id": "I8FpTluB3FPw",
        "colab": {
          "base_uri": "https://localhost:8080/"
        },
        "outputId": "6afc2140-53ba-4b38-881d-e92e0297a438"
      },
      "source": [
        "score_list = [5,10,15,20,25,30]\r\n",
        "\r\n",
        "sum_of_score = 0;\r\n",
        "i = 0\r\n",
        "while i < len(score_list):\r\n",
        "  if i % 2 == 0:\r\n",
        "    sum_of_score += score_list[i]\r\n",
        "  i += 1\r\n",
        "\r\n",
        "print(sum_of_score)"
      ],
      "execution_count": 1,
      "outputs": [
        {
          "output_type": "stream",
          "text": [
            "45\n"
          ],
          "name": "stdout"
        }
      ]
    },
    {
      "cell_type": "code",
      "metadata": {
        "colab": {
          "base_uri": "https://localhost:8080/"
        },
        "id": "Ooa8327rsvKt",
        "outputId": "c2f7e0aa-8f3d-425d-bde4-e9b2867e0324"
      },
      "source": [
        "coupon = 0\r\n",
        "money = 200000\r\n",
        "coffee = 3500\r\n",
        "while money > coffee:\r\n",
        "  if coupon < 4:\r\n",
        "    money = money - coffee\r\n",
        "    coupon += 1\r\n",
        "  else:\r\n",
        "    money += 2800\r\n",
        "    coupon = 0\r\n",
        "print(money)"
      ],
      "execution_count": 2,
      "outputs": [
        {
          "output_type": "stream",
          "text": [
            "2600\n"
          ],
          "name": "stdout"
        }
      ]
    },
    {
      "cell_type": "code",
      "metadata": {
        "colab": {
          "base_uri": "https://localhost:8080/"
        },
        "id": "Oh-yBbdttUhb",
        "outputId": "c1e24682-3cb4-4ac8-838a-f9723972bec9"
      },
      "source": [
        "list_data_a = [1,2]\r\n",
        "list_data_b = [3,4]\r\n",
        "\r\n",
        "for i in list_data_a:\r\n",
        "  for j in list_data_b:\r\n",
        "    result = i+j\r\n",
        "print(result)"
      ],
      "execution_count": 3,
      "outputs": [
        {
          "output_type": "stream",
          "text": [
            "6\n"
          ],
          "name": "stdout"
        }
      ]
    },
    {
      "cell_type": "code",
      "metadata": {
        "colab": {
          "base_uri": "https://localhost:8080/"
        },
        "id": "Q3crmvDFvw5K",
        "outputId": "27d78421-2613-474d-ccae-3ce4996587e3"
      },
      "source": [
        "list_1 = [[1,2],[3],[4,5,6]]\r\n",
        "a,b,c = list_1\r\n",
        "list_2 = a+b+c\r\n",
        "print(a)\r\n",
        "print(b)\r\n",
        "print(c)\r\n",
        "print(list_2)"
      ],
      "execution_count": 5,
      "outputs": [
        {
          "output_type": "stream",
          "text": [
            "[1, 2]\n",
            "[3]\n",
            "[4, 5, 6]\n",
            "[1, 2, 3, 4, 5, 6]\n"
          ],
          "name": "stdout"
        }
      ]
    },
    {
      "cell_type": "code",
      "metadata": {
        "id": "Co3Zh00uwMAd"
      },
      "source": [
        ""
      ],
      "execution_count": null,
      "outputs": []
    }
  ]
}