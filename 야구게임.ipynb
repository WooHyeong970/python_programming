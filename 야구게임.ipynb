{
  "nbformat": 4,
  "nbformat_minor": 0,
  "metadata": {
    "colab": {
      "name": "야구게임.ipynb",
      "provenance": [],
      "collapsed_sections": [],
      "authorship_tag": "ABX9TyNkxwg/MEJIDqUWfeiQc9Ko",
      "include_colab_link": true
    },
    "kernelspec": {
      "name": "python3",
      "display_name": "Python 3"
    }
  },
  "cells": [
    {
      "cell_type": "markdown",
      "metadata": {
        "id": "view-in-github",
        "colab_type": "text"
      },
      "source": [
        "<a href=\"https://colab.research.google.com/github/dngud9701/python_programming/blob/main/%EC%95%BC%EA%B5%AC%EA%B2%8C%EC%9E%84.ipynb\" target=\"_parent\"><img src=\"https://colab.research.google.com/assets/colab-badge.svg\" alt=\"Open In Colab\"/></a>"
      ]
    },
    {
      "cell_type": "code",
      "metadata": {
        "colab": {
          "base_uri": "https://localhost:8080/"
        },
        "id": "fSlJqoXgaiEW",
        "outputId": "0c1aefb6-61a0-46ec-ae93-17a7d10f535d"
      },
      "source": [
        "print(\"숫자야구게임을 시작합니다.\")\r\n",
        "print(\"난이도를 선택해주세요.\")\r\n",
        "print(\"1.쉬움\\n2.보통\\n3.어려움\")\r\n",
        "while(1):\r\n",
        "  level = int(input())\r\n",
        "  if level == 1:\r\n",
        "    print(\"쉬움난이도를 선택하셨습니다. 게임을 시작합니다.\")\r\n",
        "    break\r\n",
        "  elif level == 2:\r\n",
        "    print(\"보통난이도를 선택하셨습니다. 게임을 시작합니다.\")\r\n",
        "    break\r\n",
        "  elif level == 3:\r\n",
        "    print(\"어려움난이도를 선택하셨습니다. 게임을 시작합니다.\")\r\n",
        "    break\r\n",
        "  print(\"인식 실패. 다시 입력해주세요.\")"
      ],
      "execution_count": null,
      "outputs": [
        {
          "output_type": "stream",
          "text": [
            "숫자야구게임을 시작합니다.\n",
            "난이도를 선택해주세요.\n",
            "1.쉬움\n",
            "2.보통\n",
            "3.어려움\n",
            "3\n",
            "어려움난이도를 선택하셨습니다. 게임을 시작합니다.\n"
          ],
          "name": "stdout"
        }
      ]
    },
    {
      "cell_type": "code",
      "metadata": {
        "colab": {
          "base_uri": "https://localhost:8080/"
        },
        "id": "hueLMCdpchwW",
        "outputId": "a3db086e-89e7-45e9-d481-54398cc9d00b"
      },
      "source": [
        "import random\r\n",
        "chance = 9\r\n",
        "time = 1\r\n",
        "number_list = []\r\n",
        "rand_num = random.randint(0,9)\r\n",
        "for i in range(level+2):\r\n",
        "  while rand_num in number_list:\r\n",
        "    rand_num = random.randint(0,9)\r\n",
        "  number_list.append(rand_num)\r\n",
        "print(level+2,\"개의 숫자를 맞춰야 하며\",chance,\"번의 기회가 주어집니다.\")"
      ],
      "execution_count": null,
      "outputs": [
        {
          "output_type": "stream",
          "text": [
            "5 개의 숫자를 맞춰야 하며 9 번의 기회가 주어집니다.\n"
          ],
          "name": "stdout"
        }
      ]
    },
    {
      "cell_type": "code",
      "metadata": {
        "colab": {
          "base_uri": "https://localhost:8080/"
        },
        "id": "BFLu7fIWght2",
        "outputId": "207cad0f-5300-432f-b3cd-b0abebbe3309"
      },
      "source": [
        "for i in range(len(number_list)): print(number_list[i])"
      ],
      "execution_count": null,
      "outputs": [
        {
          "output_type": "stream",
          "text": [
            "5\n",
            "2\n",
            "4\n",
            "9\n",
            "8\n"
          ],
          "name": "stdout"
        }
      ]
    },
    {
      "cell_type": "code",
      "metadata": {
        "id": "mqSxNMp4h-uK"
      },
      "source": [
        "def score_result(record):\r\n",
        "  strike = 0\r\n",
        "  ball = 0\r\n",
        "  isWin = False\r\n",
        "  for i in range(len(record)):\r\n",
        "    if int(record[i]) == number_list[i]:\r\n",
        "      strike += 1\r\n",
        "    elif int(record[i]) in number_list:\r\n",
        "      ball += 1\r\n",
        "\r\n",
        "  if level == 1:\r\n",
        "    if strike == 3:\r\n",
        "      print(\"***WIN***\")\r\n",
        "      isWin = True\r\n",
        "      return isWin\r\n",
        "  elif level == 2:\r\n",
        "    if strike == 4:\r\n",
        "      print(\"***WIN***\")\r\n",
        "      isWin = True\r\n",
        "      return isWin\r\n",
        "  else:\r\n",
        "    if strike == 5:\r\n",
        "      print(\"***WIN***\")\r\n",
        "      isWin = True\r\n",
        "      return isWin\r\n",
        "  if strike == 4:\r\n",
        "    print(\"PERFECT!!\")\r\n",
        "    return isWin\r\n",
        "  print(strike,\"STRIKE\",ball,\"BALL!!\")\r\n",
        "  return isWin"
      ],
      "execution_count": null,
      "outputs": []
    },
    {
      "cell_type": "code",
      "metadata": {
        "colab": {
          "base_uri": "https://localhost:8080/"
        },
        "id": "u0JWbwBhllGr",
        "outputId": "8962b9ba-9c61-44e8-818e-3b23dcb7abf5"
      },
      "source": [
        "while time <= chance:\r\n",
        "  print(time,\"회말입니다. 숫자를 입력하세요.\")\r\n",
        "  turn = input()\r\n",
        "  if len(turn) != len(number_list):\r\n",
        "    print(\"OUT OF RANGE\")\r\n",
        "    continue\r\n",
        "  if score_result(turn):\r\n",
        "    break\r\n",
        "  time += 1\r\n",
        "  if time == chane:\r\n",
        "    print(\"***LOSE***\")"
      ],
      "execution_count": null,
      "outputs": [
        {
          "output_type": "stream",
          "text": [
            "2 회말입니다. 숫자를 입력하세요.\n",
            "52498\n",
            "***WIN***\n"
          ],
          "name": "stdout"
        }
      ]
    },
    {
      "cell_type": "code",
      "metadata": {
        "id": "ATlild1qltw6"
      },
      "source": [
        ""
      ],
      "execution_count": null,
      "outputs": []
    }
  ]
}